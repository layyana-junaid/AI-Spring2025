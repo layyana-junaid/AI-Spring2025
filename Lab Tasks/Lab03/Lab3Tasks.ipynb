{
 "cells": [
  {
   "cell_type": "code",
   "execution_count": 1,
   "metadata": {},
   "outputs": [
    {
     "name": "stdout",
     "output_type": "stream",
     "text": [
      "Exploring node: A\n",
      "Exploring node: D\n",
      "Exploring node: I\n",
      "Exploring node: N\n",
      "Exploring node: M\n",
      "Goal found: M\n"
     ]
    },
    {
     "data": {
      "text/plain": [
       "True"
      ]
     },
     "execution_count": 1,
     "metadata": {},
     "output_type": "execute_result"
    }
   ],
   "source": [
    "'''Layyana Junaid 23k-0056 BSAI-4A'''\n",
    "'''Task 1'''\n",
    "\n",
    "class DFSAagent:\n",
    "    def __init__(self, graph, start, goal):\n",
    "        self.graph = graph  # The environment (the graph)\n",
    "        self.start = start  # The start node\n",
    "        self.goal = goal    # The goal node\n",
    "        self.visited = []   # List of visited nodes to avoid revisiting\n",
    "        self.stack = []     # Stack to track the search path\n",
    "\n",
    "    def search(self):\n",
    "        self.stack.append(self.start) \n",
    "        \n",
    "        while self.stack:\n",
    "            current_node = self.stack.pop()  \n",
    "\n",
    "            if current_node not in self.visited:\n",
    "                self.visited.append(current_node)  \n",
    "                print(f\"Exploring node: {current_node}\")\n",
    "                \n",
    "                if current_node == self.goal:\n",
    "                    print(f\"Goal found: {current_node}\")\n",
    "                    return True  # Goal reached, stop the search\n",
    "\n",
    "                \n",
    "                for neighbor in self.graph[current_node]:\n",
    "                    if neighbor not in self.visited:\n",
    "                        self.stack.append(neighbor)\n",
    "\n",
    "        print(\"Goal not found!\")\n",
    "        return False  # Goal not found\n",
    "\n",
    "graph = {\n",
    "    'A': ['B', 'C', 'D'],\n",
    "    'B': ['E', 'F'],\n",
    "    'C': ['G'],\n",
    "    'D': ['H', 'I'],\n",
    "    'E': ['J'],\n",
    "    'F': ['K', 'L'],\n",
    "    'G': [],\n",
    "    'H': [],\n",
    "    'I': ['M', 'N'],\n",
    "    'J': [],\n",
    "    'K': [],\n",
    "    'L': [],\n",
    "    'M': [],\n",
    "    'N': [],\n",
    "}\n",
    "\n",
    "agent = DFSAagent(graph, 'A', 'M')\n",
    "agent.search()\n"
   ]
  }
 ],
 "metadata": {
  "kernelspec": {
   "display_name": "Python 3",
   "language": "python",
   "name": "python3"
  },
  "language_info": {
   "codemirror_mode": {
    "name": "ipython",
    "version": 3
   },
   "file_extension": ".py",
   "mimetype": "text/x-python",
   "name": "python",
   "nbconvert_exporter": "python",
   "pygments_lexer": "ipython3",
   "version": "3.12.4"
  }
 },
 "nbformat": 4,
 "nbformat_minor": 2
}
